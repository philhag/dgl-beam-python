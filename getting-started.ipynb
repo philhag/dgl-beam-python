{
 "cells": [
  {
   "cell_type": "markdown",
   "metadata": {},
   "source": [
    "# DGL der Biegung am Einfeldträger \n",
    "\n",
    "Dieses Jupyter Notebook enthält eine Python Implementierung der Differentialgleichung am Einfeldträger. Die Differentialgleichung der Biegelinie für einen Einfeldträger ergibt sich aus den Grundlagen der Festigkeitslehre und der Elastizitätstheorie. "
   ]
  },
  {
   "cell_type": "markdown",
   "metadata": {},
   "source": [
    "![System der Biegelinie](system.png)"
   ]
  },
  {
   "cell_type": "markdown",
   "metadata": {},
   "source": [
    "Allgemeinge Differentialgleichung der Biegelinie\n",
    "$$\n",
    "E \\cdot I \\cdot \\frac{d^4w(x)}{dx^4} = q(x)\n",
    "$$"
   ]
  },
  {
   "cell_type": "markdown",
   "metadata": {},
   "source": [
    "$𝐸$: Elastizitätsmodul des Materials (Materialeigenschaft, die die Steifigkeit beschreibt).  \n",
    "$𝐼$: Flächenträgheitsmoment des Querschnitts (Geometrieeigenschaft des Trägers).  \n",
    "$𝑤(𝑥)$: Durchbiegung des Trägers in Abhängigkeit von der Stelle $𝑥$.  \n",
    "$𝑞(𝑥)$: Verteilte Streckenlast in $N/m$ entlang des Trägers.  "
   ]
  },
  {
   "cell_type": "markdown",
   "metadata": {},
   "source": [
    "\n",
    "## Verformung und Schnittgrößen \n"
   ]
  },
  {
   "cell_type": "markdown",
   "metadata": {},
   "source": [
    "Biegemoment $M(x) = -E \\cdot I \\cdot \\frac{d^2w(x)}{dx^2}$"
   ]
  },
  {
   "cell_type": "markdown",
   "metadata": {},
   "source": [
    "Querkraft $V(x) = \\frac{dM(x)}{dx} = -E \\cdot I \\cdot \\frac{d^3w(x)}{dx^3}$"
   ]
  },
  {
   "cell_type": "markdown",
   "metadata": {},
   "source": [
    "Durchbiegung $w(x) = \\frac{q_0}{24 \\cdot E \\cdot I} \\cdot (x^4 - 2 \\cdot L \\cdot x^3 + L^3 \\cdot x)$"
   ]
  },
  {
   "cell_type": "markdown",
   "metadata": {},
   "source": [
    "##  Programmierung und Darstellung"
   ]
  },
  {
   "cell_type": "markdown",
   "metadata": {},
   "source": [
    "Import von benötigten Abhängigkeiten/Bibliotheken (numpy, sympy, matplotlib)  \n",
    "Falls nicht im System installiert muss zuvor im Terminal über die Paketverwaltung `pip install numpy`, `pip install sympy`, `pip install matplotlib` ausgeführt werden (siehe https://pypi.org/)."
   ]
  },
  {
   "cell_type": "code",
   "execution_count": 133,
   "metadata": {},
   "outputs": [],
   "source": [
    "import numpy as np\n",
    "import sympy as sp\n",
    "import matplotlib.pyplot as plt"
   ]
  },
  {
   "cell_type": "markdown",
   "metadata": {},
   "source": [
    "### Definition der Symbole und Variablen"
   ]
  },
  {
   "cell_type": "code",
   "execution_count": 134,
   "metadata": {},
   "outputs": [],
   "source": [
    "# ### Definition der Symbole und Variablen\n",
    "x, L, E, I, q0 = sp.symbols('x L E I q0')"
   ]
  },
  {
   "cell_type": "markdown",
   "metadata": {},
   "source": [
    "Beispiel: Gleichmäßig verteilte Last $q(x) = q0$"
   ]
  },
  {
   "cell_type": "code",
   "execution_count": 135,
   "metadata": {},
   "outputs": [],
   "source": [
    "q = q0 # Konstante Streckenlast\n",
    "#q = q0 * (1 - (x / L)**2)  # Quadratische Streckenlast\n",
    "#q = q0 * (1 - x / L) # Dreieckslast"
   ]
  },
  {
   "cell_type": "markdown",
   "metadata": {},
   "source": [
    "Differentialgleichung für $w(x)$"
   ]
  },
  {
   "cell_type": "code",
   "execution_count": 136,
   "metadata": {},
   "outputs": [
    {
     "name": "stdout",
     "output_type": "stream",
     "text": [
      "Differentialgleichung:\n"
     ]
    },
    {
     "data": {
      "text/latex": [
       "$\\displaystyle E I \\frac{d^{4}}{d x^{4}} w{\\left(x \\right)} = q_{0}$"
      ],
      "text/plain": [
       "Eq(E*I*Derivative(w(x), (x, 4)), q0)"
      ]
     },
     "metadata": {},
     "output_type": "display_data"
    }
   ],
   "source": [
    "w = sp.Function('w')(x)\n",
    "equation = sp.Eq(E * I * w.diff(x, 4), q)\n",
    "print(\"Differentialgleichung:\")\n",
    "display(equation)"
   ]
  },
  {
   "cell_type": "markdown",
   "metadata": {},
   "source": [
    "### Lösung der Differentialgleichung   \n",
    "Vierfache Integration der Differentialgleichung unter Berücksichtigung der Randbedingungen  \n",
    "Randbedingungen für einen Einfeldträger $(w(0) = 0, w(L) = 0, w'(0) = 0, w'(L) = 0)$"
   ]
  },
  {
   "cell_type": "code",
   "execution_count": 137,
   "metadata": {},
   "outputs": [],
   "source": [
    "C1, C2, C3, C4 = sp.symbols('C1 C2 C3 C4')\n",
    "constants = [C1, C2, C3, C4]"
   ]
  },
  {
   "cell_type": "markdown",
   "metadata": {},
   "source": [
    "Vierfache Integration der Differentialgleichung nach Umstellung $\\frac{d^4w(x)}{dx^4} = \\frac{q}{(E * I)}$"
   ]
  },
  {
   "cell_type": "code",
   "execution_count": 138,
   "metadata": {},
   "outputs": [
    {
     "data": {
      "text/latex": [
       "$\\displaystyle \\frac{C_{1} x^{3}}{6} + \\frac{C_{2} x^{2}}{2} + C_{3} x + C_{4} + \\frac{q_{0} x^{4}}{24 E I}$"
      ],
      "text/plain": [
       "C1*x**3/6 + C2*x**2/2 + C3*x + C4 + q0*x**4/(24*E*I)"
      ]
     },
     "metadata": {},
     "output_type": "display_data"
    }
   ],
   "source": [
    "w1 = sp.integrate(q / (E * I), x) + C1\n",
    "w2 = sp.integrate(w1, x) + C2 \n",
    "w3 = sp.integrate(w2, x) + C3 \n",
    "w4 = sp.integrate(w3, x) + C4 \n",
    "display(w4)"
   ]
  },
  {
   "cell_type": "markdown",
   "metadata": {},
   "source": [
    "Anwendung der Randbedingungen"
   ]
  },
  {
   "cell_type": "code",
   "execution_count": 139,
   "metadata": {},
   "outputs": [],
   "source": [
    "boundary_conditions = [\n",
    "    sp.Eq(w4.subs(x, 0), 0),  # w(0) = 0\n",
    "    sp.Eq(w4.subs(x, L), 0),  # w(L) = 0\n",
    "    sp.Eq(w4.diff(x).subs(x, 0), 0),  # w'(0) = 0\n",
    "    sp.Eq(w4.diff(x).subs(x, L), 0),  # w'(L) = 0\n",
    "]\n",
    "solutions = sp.solve(boundary_conditions, constants)\n"
   ]
  },
  {
   "cell_type": "markdown",
   "metadata": {},
   "source": [
    "Lösung der Durchbiegung"
   ]
  },
  {
   "cell_type": "code",
   "execution_count": 140,
   "metadata": {},
   "outputs": [
    {
     "name": "stdout",
     "output_type": "stream",
     "text": [
      "Lösung für die Durchbiegung w(x):\n"
     ]
    },
    {
     "data": {
      "text/latex": [
       "$\\displaystyle \\frac{L^{2} q_{0} x^{2}}{24 E I} - \\frac{L q_{0} x^{3}}{12 E I} + \\frac{q_{0} x^{4}}{24 E I}$"
      ],
      "text/plain": [
       "L**2*q0*x**2/(24*E*I) - L*q0*x**3/(12*E*I) + q0*x**4/(24*E*I)"
      ]
     },
     "metadata": {},
     "output_type": "display_data"
    }
   ],
   "source": [
    "w4 = w4.subs(solutions)\n",
    "print(\"Lösung für die Durchbiegung w(x):\")\n",
    "display(w4)"
   ]
  },
  {
   "cell_type": "markdown",
   "metadata": {},
   "source": [
    "### Ableitungen bestimmen\n",
    "Biegemoment"
   ]
  },
  {
   "cell_type": "code",
   "execution_count": 141,
   "metadata": {},
   "outputs": [
    {
     "name": "stdout",
     "output_type": "stream",
     "text": [
      "Biegemoment M(x):\n"
     ]
    },
    {
     "data": {
      "text/latex": [
       "$\\displaystyle - \\frac{q_{0} \\left(L^{2} - 6 L x + 6 x^{2}\\right)}{12}$"
      ],
      "text/plain": [
       "-q0*(L**2 - 6*L*x + 6*x**2)/12"
      ]
     },
     "metadata": {},
     "output_type": "display_data"
    }
   ],
   "source": [
    "M = -E * I * sp.diff(w4, x, 2)\n",
    "print(\"Biegemoment M(x):\")\n",
    "display(M)\n"
   ]
  },
  {
   "cell_type": "markdown",
   "metadata": {},
   "source": [
    "Querkraft"
   ]
  },
  {
   "cell_type": "code",
   "execution_count": 142,
   "metadata": {},
   "outputs": [
    {
     "name": "stdout",
     "output_type": "stream",
     "text": [
      "Querkraft V(x):\n"
     ]
    },
    {
     "data": {
      "text/latex": [
       "$\\displaystyle - \\frac{q_{0} \\left(- 6 L + 12 x\\right)}{12}$"
      ],
      "text/plain": [
       "-q0*(-6*L + 12*x)/12"
      ]
     },
     "metadata": {},
     "output_type": "display_data"
    }
   ],
   "source": [
    "V = sp.diff(M, x)\n",
    "print(\"Querkraft V(x):\")\n",
    "display(V)"
   ]
  },
  {
   "cell_type": "markdown",
   "metadata": {},
   "source": [
    "Belastung (Probe)"
   ]
  },
  {
   "cell_type": "code",
   "execution_count": 143,
   "metadata": {},
   "outputs": [
    {
     "name": "stdout",
     "output_type": "stream",
     "text": [
      "Belastung q(x):\n"
     ]
    },
    {
     "data": {
      "text/latex": [
       "$\\displaystyle - q_{0}$"
      ],
      "text/plain": [
       "-q0"
      ]
     },
     "metadata": {},
     "output_type": "display_data"
    }
   ],
   "source": [
    "q_calculated = sp.diff(V, x)\n",
    "print(\"Belastung q(x):\")\n",
    "display(q_calculated)"
   ]
  },
  {
   "cell_type": "markdown",
   "metadata": {},
   "source": [
    "### Visualisierung der Ergebnisse"
   ]
  },
  {
   "cell_type": "markdown",
   "metadata": {},
   "source": [
    "Parameterwerte festlegen für Beispiel"
   ]
  },
  {
   "cell_type": "code",
   "execution_count": 144,
   "metadata": {},
   "outputs": [],
   "source": [
    "E_val = 2.1e11  # Elastizitätsmodul Baustahl [Pa] nach [1]\n",
    "I_val = 8.69e-6  # Flächenträgheitsmoment [m^4] nach [1] für IPE 160\n",
    "q0_val = 5000  # Gleichmäßig verteilte Last [N/m]\n",
    "L_val = 10  # Länge des Trägers [m]"
   ]
  },
  {
   "cell_type": "markdown",
   "metadata": {},
   "source": [
    "Funktionen numerisch auswerten"
   ]
  },
  {
   "cell_type": "code",
   "execution_count": 145,
   "metadata": {},
   "outputs": [],
   "source": [
    "w_lambdified = sp.lambdify(x, w4.subs({E: E_val, I: I_val, q0: q0_val, L: L_val}), 'numpy')\n",
    "M_lambdified = sp.lambdify(x, M.subs({E: E_val, I: I_val, q0: q0_val, L: L_val}), 'numpy')\n",
    "V_lambdified = sp.lambdify(x, V.subs({E: E_val, I: I_val, q0: q0_val, L: L_val}), 'numpy')\n"
   ]
  },
  {
   "cell_type": "markdown",
   "metadata": {},
   "source": [
    " x-Werte generieren"
   ]
  },
  {
   "cell_type": "code",
   "execution_count": 146,
   "metadata": {},
   "outputs": [],
   "source": [
    "x_vals = np.linspace(0, L_val, 500)\n",
    "w_vals = w_lambdified(x_vals)\n",
    "M_vals = M_lambdified(x_vals)\n",
    "V_vals = V_lambdified(x_vals)"
   ]
  },
  {
   "cell_type": "markdown",
   "metadata": {},
   "source": [
    "Plot der Ergebnisse"
   ]
  },
  {
   "cell_type": "code",
   "execution_count": 147,
   "metadata": {},
   "outputs": [
    {
     "data": {
      "text/plain": [
       "<Figure size 1200x800 with 0 Axes>"
      ]
     },
     "execution_count": 147,
     "metadata": {},
     "output_type": "execute_result"
    },
    {
     "data": {
      "text/plain": [
       "<Figure size 1200x800 with 0 Axes>"
      ]
     },
     "metadata": {},
     "output_type": "display_data"
    }
   ],
   "source": [
    "plt.figure(figsize=(12, 8))"
   ]
  },
  {
   "cell_type": "markdown",
   "metadata": {},
   "source": [
    "Durchbiegung\n"
   ]
  },
  {
   "cell_type": "code",
   "execution_count": 148,
   "metadata": {},
   "outputs": [
    {
     "data": {
      "text/plain": [
       "<matplotlib.legend.Legend at 0x1fab561a490>"
      ]
     },
     "execution_count": 148,
     "metadata": {},
     "output_type": "execute_result"
    },
    {
     "data": {
      "image/png": "[encoded data removed]",
      "text/plain": [
       "<Figure size 640x480 with 1 Axes>"
      ]
     },
     "metadata": {},
     "output_type": "display_data"
    }
   ],
   "source": [
    "plt.subplot(4, 1, 1)\n",
    "plt.plot(x_vals, w_vals, label='Durchbiegung w(x)', color='blue')\n",
    "plt.title('Belastung, Durchbiegung, Biegemoment und Querkraft')\n",
    "plt.ylabel('w(x) [m]')\n",
    "plt.grid(True)\n",
    "plt.legend()\n"
   ]
  },
  {
   "cell_type": "markdown",
   "metadata": {},
   "source": [
    "Biegemoment"
   ]
  },
  {
   "cell_type": "code",
   "execution_count": 149,
   "metadata": {},
   "outputs": [
    {
     "data": {
      "text/plain": [
       "<matplotlib.legend.Legend at 0x1fab567b390>"
      ]
     },
     "execution_count": 149,
     "metadata": {},
     "output_type": "execute_result"
    },
    {
     "data": {
      "image/png": "[encoded data removed]",
      "text/plain": [
       "<Figure size 640x480 with 1 Axes>"
      ]
     },
     "metadata": {},
     "output_type": "display_data"
    }
   ],
   "source": [
    "plt.subplot(4, 1, 2)\n",
    "plt.plot(x_vals, M_vals, label='Biegemoment M(x)', color='green')\n",
    "plt.ylabel('M(x) [Nm]')\n",
    "plt.grid(True)\n",
    "plt.legend()"
   ]
  },
  {
   "cell_type": "markdown",
   "metadata": {},
   "source": [
    "Querkraft"
   ]
  },
  {
   "cell_type": "code",
   "execution_count": 150,
   "metadata": {},
   "outputs": [
    {
     "data": {
      "text/plain": [
       "<matplotlib.legend.Legend at 0x1fab56fc410>"
      ]
     },
     "execution_count": 150,
     "metadata": {},
     "output_type": "execute_result"
    },
    {
     "data": {
      "image/png": "[encoded data removed]",
      "text/plain": [
       "<Figure size 640x480 with 1 Axes>"
      ]
     },
     "metadata": {},
     "output_type": "display_data"
    }
   ],
   "source": [
    "plt.subplot(4, 1, 3)\n",
    "plt.plot(x_vals, V_vals, label='Querkraft V(x)', color='red')\n",
    "plt.xlabel('x [m]')\n",
    "plt.ylabel('V(x) [N]')\n",
    "plt.grid(True)\n",
    "plt.legend()\n",
    "\n"
   ]
  },
  {
   "cell_type": "code",
   "execution_count": 151,
   "metadata": {},
   "outputs": [
    {
     "data": {
      "text/plain": [
       "<matplotlib.legend.Legend at 0x1fab5765950>"
      ]
     },
     "execution_count": 151,
     "metadata": {},
     "output_type": "execute_result"
    },
    {
     "data": {
      "image/png": "[encoded data removed]",
      "text/plain": [
       "<Figure size 640x480 with 1 Axes>"
      ]
     },
     "metadata": {},
     "output_type": "display_data"
    }
   ],
   "source": [
    "# Ersetze q0 immer, aber ersetze L nur, wenn es im Ausdruck enthalten ist\n",
    "q_expr = q_calculated.subs({q0: q0_val})\n",
    "\n",
    "# Überprüfen, ob L im Ausdruck enthalten ist und ersetze es nur dann\n",
    "if L in q.free_symbols:\n",
    "    q_expr = q_expr.subs({L: L_val})\n",
    "\n",
    "# Lambdify mit dem angepassten Ausdruck\n",
    "q_lambdified = sp.lambdify(x, q_expr, 'numpy')\n",
    "\n",
    "# Berechne die Werte von q(x) für x_vals\n",
    "q_vals = q_lambdified(x_vals)\n",
    "\n",
    "# Wenn q_expr konstant ist (z. B. keine Abhängigkeit von x), dann erzeuge ein Array mit konstanten Werten\n",
    "if isinstance(q_vals, (int, float)):\n",
    "    q_vals = np.full_like(x_vals, q_vals)  # Erstelle ein Array mit konstanten Werten, das die Länge von x_vals hat\n",
    "\n",
    "# Plotten\n",
    "plt.subplot(4, 1, 4)\n",
    "plt.plot(x_vals, q_vals, label='Belastung q(x)', color='orange')\n",
    "plt.ylabel('q(x) [N/m]')\n",
    "plt.grid(True)\n",
    "plt.legend()"
   ]
  },
  {
   "cell_type": "code",
   "execution_count": 152,
   "metadata": {},
   "outputs": [
    {
     "data": {
      "text/plain": [
       "<Figure size 640x480 with 0 Axes>"
      ]
     },
     "metadata": {},
     "output_type": "display_data"
    }
   ],
   "source": [
    "plt.tight_layout()  # Stellt sicher, dass die Plots nicht überlappen\n",
    "plt.show()  # Zeigt die Gesamtgrafik an"
   ]
  },
  {
   "cell_type": "markdown",
   "metadata": {},
   "source": [
    "## Quellen\n",
    "[1] Albert, Andrej (Hg.) (2014): Bautabellen für Ingenieure. Mit Berechnungshinweisen und Beispielen. Bundesanzeiger Verlag. 21. Auflage. Köln: Reguvis Fachmedien.  \n",
    "[2] Herrmann, Horst; Krings, Wolfgang (2020): Kleine Baustatik. Grundlagen der Statik und Berechnung von Bauteilen. 19., berichtigte und korrigierte Auflage. Wiesbaden, Heidelberg: Springer Vieweg."
   ]
  }
 ],
 "metadata": {
  "kernelspec": {
   "display_name": "Python 3",
   "language": "python",
   "name": "python3"
  },
  "language_info": {
   "codemirror_mode": {
    "name": "ipython",
    "version": 3
   },
   "file_extension": ".py",
   "mimetype": "text/x-python",
   "name": "python",
   "nbconvert_exporter": "python",
   "pygments_lexer": "ipython3",
   "version": "3.13.1"
  }
 },
 "nbformat": 4,
 "nbformat_minor": 2
}
