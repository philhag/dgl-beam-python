{
 "cells": [
  {
   "cell_type": "markdown",
   "metadata": {
    "slideshow": {
     "slide_type": "slide"
    }
   },
   "source": [
    "# DGL der Biegung am Einfeldträger\n",
    "\n",
    "Dieses Jupyter Notebook enthält eine Python Implementierung der Differentialgleichung am Einfeldträger. Die Differentialgleichung der Biegelinie für einen Einfeldträger ergibt sich aus den Grundlagen der Festigkeitslehre und der Elastizitätstheorie. "
   ]
  },
  {
   "cell_type": "markdown",
   "metadata": {
    "slideshow": {
     "slide_type": "fragment"
    }
   },
   "source": [
    "![System der Biegelinie](system.png)"
   ]
  },
  {
   "cell_type": "markdown",
   "metadata": {
    "slideshow": {
     "slide_type": "notes"
    }
   },
   "source": [
    "Allgemeinge Differentialgleichung der Biegelinie\n",
    "$$\n",
    "E \\cdot I \\cdot \\frac{d^4w(x)}{dx^4} = q(x)\n",
    "$$"
   ]
  },
  {
   "cell_type": "markdown",
   "metadata": {
    "slideshow": {
     "slide_type": "notes"
    }
   },
   "source": [
    "$𝐸$: Elastizitätsmodul des Materials (Materialeigenschaft, die die Steifigkeit beschreibt).  \n",
    "$𝐼$: Flächenträgheitsmoment des Querschnitts (Geometrieeigenschaft des Trägers).  \n",
    "$𝑤(𝑥)$: Durchbiegung des Trägers in Abhängigkeit von der Stelle $𝑥$.  \n",
    "$𝑞(𝑥)$: Verteilte Streckenlast in $N/m$ entlang des Trägers.  "
   ]
  },
  {
   "cell_type": "markdown",
   "metadata": {
    "slideshow": {
     "slide_type": "notes"
    }
   },
   "source": [
    "\n",
    "## Verformung und Schnittgrößen \n"
   ]
  },
  {
   "cell_type": "markdown",
   "metadata": {
    "slideshow": {
     "slide_type": "notes"
    }
   },
   "source": [
    "Biegemoment $M(x) = -E \\cdot I \\cdot \\frac{d^2w(x)}{dx^2}$"
   ]
  },
  {
   "cell_type": "markdown",
   "metadata": {
    "slideshow": {
     "slide_type": "notes"
    }
   },
   "source": [
    "Querkraft $V(x) = \\frac{dM(x)}{dx} = -E \\cdot I \\cdot \\frac{d^3w(x)}{dx^3}$"
   ]
  },
  {
   "cell_type": "markdown",
   "metadata": {
    "slideshow": {
     "slide_type": "notes"
    }
   },
   "source": [
    "Belastung $q(x) = \\frac{dV(x)}{dx} = -E \\cdot I \\cdot \\frac{d^4w(x)}{dx^4}$"
   ]
  },
  {
   "cell_type": "markdown",
   "metadata": {
    "slideshow": {
     "slide_type": "notes"
    }
   },
   "source": [
    "\n",
    "Um nun die Durchbiegung $w(x)$ zu finden, integrieren wir die Gleichung viermal:\n",
    "\n",
    "$\n",
    "\\frac{d^4 w(x)}{dx^4} = \\frac{q(x)}{-E \\cdot I}\n",
    "$\n",
    "\n",
    "Dabei werden die Konstanten durch Randbedingungen oder spezielle Annahmen (z. B. Null-Durchbiegung oder Null-Scherkraft am Ende des Balkens) bestimmt.\n",
    "\n",
    "\n",
    "Wenn wir eine spezifische Form für $ q(x)$ annehmen (z. B. $ q(x) = q_0 $, eine konstante Belastung), erhalten wir eine Lösung für $ w(x) $:\n",
    "\n",
    "$w(x) = \\frac{q_0}{24 \\cdot E \\cdot I} \\cdot (x^4 - 2 \\cdot L \\cdot x^3 + L^3 \\cdot x)$\n",
    "\n",
    "\n",
    "#### Zusammenfassung der Schritte\n",
    "\n",
    "1. Starten mit der Differentialgleichung für $ q(x) $, die mit den vierten Ableitungen von $ w(x) $ verknüpft ist.\n",
    "2. Integrieren der Gleichung, um die Durchbiegung $ w(x) $ zu bestimmen.\n",
    "3. Bestimmen der Konstanten durch Randbedingungen (z. B. $ w(0) = 0$ und $w(L) = 0$ bei einer festen Einspannung).\n",
    "\n",
    "Durchbiegung $w(x) = \\frac{q_0}{24 \\cdot E \\cdot I} \\cdot (x^4 - 2 \\cdot L \\cdot x^3 + L^3 \\cdot x)$"
   ]
  },
  {
   "cell_type": "markdown",
   "metadata": {
    "slideshow": {
     "slide_type": "slide"
    }
   },
   "source": [
    "##  Programmierung und Darstellung\n",
    "\n",
    "Um die Durchbiegung $w(x)$ eines Balkens unter einer verteilten Last $q(x)$ zu berechnen, implementieren wir die vierfache Integration der entsprechenden Differentialgleichung in Python.   \n",
    "  \n",
    "Dies ermöglicht die Bestimmung der Durchbiegung für verschiedene Belastungsprofile und Randbedingungen.\n"
   ]
  },
  {
   "cell_type": "markdown",
   "metadata": {
    "slideshow": {
     "slide_type": "subslide"
    }
   },
   "source": [
    "### Import von benötigten Abhängigkeiten/Bibliotheken (numpy, sympy, matplotlib)  \n",
    "Falls nicht im System installiert muss zuvor im Terminal über die Paketverwaltung PIP `pip install numpy`, `pip install sympy`, `pip install matplotlib` oder alternativ über conda ausgeführt werden (siehe https://pypi.org/)."
   ]
  },
  {
   "cell_type": "code",
   "execution_count": null,
   "metadata": {
    "slideshow": {
     "slide_type": "notes"
    }
   },
   "outputs": [],
   "source": [
    "# Install a conda package in the current Jupyter kernel\n",
    "import sys\n",
    "!conda install --yes --prefix {sys.prefix} sympy\n",
    "!conda install --yes --prefix {sys.prefix} numpy\n",
    "!conda install --yes --prefix {sys.prefix} matplotlib\n",
    "!conda install --yes --prefix {sys.prefix} ipympl"
   ]
  },
  {
   "cell_type": "code",
   "execution_count": null,
   "metadata": {
    "scrolled": false,
    "slideshow": {
     "slide_type": "fragment"
    }
   },
   "outputs": [],
   "source": [
    "import numpy as np\n",
    "import matplotlib.pyplot as plt\n",
    "import sympy as sp"
   ]
  },
  {
   "cell_type": "markdown",
   "metadata": {
    "slideshow": {
     "slide_type": "subslide"
    }
   },
   "source": [
    "### Definition der Symbole und Variablen"
   ]
  },
  {
   "cell_type": "code",
   "execution_count": null,
   "metadata": {
    "slideshow": {
     "slide_type": "fragment"
    }
   },
   "outputs": [],
   "source": [
    "x, L, E, I, q0 = sp.symbols('x L E I q0')"
   ]
  },
  {
   "cell_type": "markdown",
   "metadata": {
    "slideshow": {
     "slide_type": "fragment"
    }
   },
   "source": [
    "Beispiel: Gleichmäßig verteilte Last $q(x) = q0$"
   ]
  },
  {
   "cell_type": "code",
   "execution_count": null,
   "metadata": {
    "slideshow": {
     "slide_type": "fragment"
    }
   },
   "outputs": [],
   "source": [
    "q = q0 # Konstante Streckenlast"
   ]
  },
  {
   "cell_type": "markdown",
   "metadata": {
    "slideshow": {
     "slide_type": "fragment"
    }
   },
   "source": [
    "Differentialgleichung für $w(x)$"
   ]
  },
  {
   "cell_type": "code",
   "execution_count": null,
   "metadata": {
    "slideshow": {
     "slide_type": "fragment"
    }
   },
   "outputs": [],
   "source": [
    "w = sp.Function('w')(x)\n",
    "equation = sp.Eq(E * I * w.diff(x, 4), q)\n",
    "print(\"Differentialgleichung:\")\n",
    "display(equation)"
   ]
  },
  {
   "cell_type": "markdown",
   "metadata": {
    "slideshow": {
     "slide_type": "slide"
    }
   },
   "source": [
    "### Lösung der Differentialgleichung   \n",
    "Vierfache Integration der Differentialgleichung unter Berücksichtigung der Randbedingungen für einen Einfeldträger \n",
    "* Durchbiegung fixiert\n",
    "$$ w(0) = 0  $$\n",
    "$$w(L) = 0$$\n",
    "* Verdrehung fixiert\n",
    "$$  w'(0) = 0  $$\n",
    "$$w'(L) = 0 $$\n"
   ]
  },
  {
   "cell_type": "code",
   "execution_count": null,
   "metadata": {
    "slideshow": {
     "slide_type": "fragment"
    }
   },
   "outputs": [],
   "source": [
    "C1, C2, C3, C4 = sp.symbols('C1 C2 C3 C4')\n",
    "constants = [C1, C2, C3, C4]"
   ]
  },
  {
   "cell_type": "markdown",
   "metadata": {
    "slideshow": {
     "slide_type": "subslide"
    }
   },
   "source": [
    "Vierfache Integration der Differentialgleichung nach Umstellung $\\frac{d^4w(x)}{dx^4} = \\frac{q}{(E * I)}$"
   ]
  },
  {
   "cell_type": "code",
   "execution_count": null,
   "metadata": {
    "slideshow": {
     "slide_type": "fragment"
    }
   },
   "outputs": [],
   "source": [
    "w1 = sp.integrate(q / (E * I), x) + C1\n",
    "w2 = sp.integrate(w1, x) + C2 \n",
    "w3 = sp.integrate(w2, x) + C3 \n",
    "w4 = sp.integrate(w3, x) + C4 \n",
    "display(w4)"
   ]
  },
  {
   "cell_type": "markdown",
   "metadata": {
    "slideshow": {
     "slide_type": "subslide"
    }
   },
   "source": [
    "Einsetzen der Randbedingungen"
   ]
  },
  {
   "cell_type": "code",
   "execution_count": null,
   "metadata": {
    "slideshow": {
     "slide_type": "fragment"
    }
   },
   "outputs": [],
   "source": [
    "boundary_conditions = [\n",
    "    sp.Eq(w4.subs(x, 0), 0),  # w(0) = 0\n",
    "    sp.Eq(w4.subs(x, L), 0),  # w(L) = 0\n",
    "    sp.Eq(w4.diff(x).subs(x, 0), 0),  # w'(0) = 0\n",
    "    sp.Eq(w4.diff(x).subs(x, L), 0),  # w'(L) = 0\n",
    "]\n",
    "solutions = sp.solve(boundary_conditions, constants)"
   ]
  },
  {
   "cell_type": "markdown",
   "metadata": {
    "slideshow": {
     "slide_type": "fragment"
    }
   },
   "source": [
    "Lösung der Durchbiegung"
   ]
  },
  {
   "cell_type": "code",
   "execution_count": null,
   "metadata": {
    "slideshow": {
     "slide_type": "fragment"
    }
   },
   "outputs": [],
   "source": [
    "w4 = w4.subs(solutions)\n",
    "print(\"Lösung für die Durchbiegung w(x):\")\n",
    "display(w4)"
   ]
  },
  {
   "cell_type": "markdown",
   "metadata": {
    "slideshow": {
     "slide_type": "slide"
    }
   },
   "source": [
    "### Ableitungen bestimmen\n",
    "Biegemoment"
   ]
  },
  {
   "cell_type": "code",
   "execution_count": null,
   "metadata": {
    "slideshow": {
     "slide_type": "fragment"
    }
   },
   "outputs": [],
   "source": [
    "M = -E * I * sp.diff(w4, x, 2)\n",
    "print(\"Biegemoment M(x):\")\n",
    "display(M)\n"
   ]
  },
  {
   "cell_type": "markdown",
   "metadata": {
    "slideshow": {
     "slide_type": "fragment"
    }
   },
   "source": [
    "Querkraft"
   ]
  },
  {
   "cell_type": "code",
   "execution_count": null,
   "metadata": {
    "slideshow": {
     "slide_type": "fragment"
    }
   },
   "outputs": [],
   "source": [
    "V = sp.diff(M, x)\n",
    "print(\"Querkraft V(x):\")\n",
    "display(V)"
   ]
  },
  {
   "cell_type": "markdown",
   "metadata": {
    "slideshow": {
     "slide_type": "subslide"
    }
   },
   "source": [
    "Belastung (Probe)"
   ]
  },
  {
   "cell_type": "code",
   "execution_count": null,
   "metadata": {
    "slideshow": {
     "slide_type": "fragment"
    }
   },
   "outputs": [],
   "source": [
    "q_calculated = sp.diff(V, x)\n",
    "print(\"Belastung q(x):\")\n",
    "display(q_calculated)"
   ]
  },
  {
   "cell_type": "markdown",
   "metadata": {
    "slideshow": {
     "slide_type": "slide"
    }
   },
   "source": [
    "## Parameterwerte festlegen für Beispiel zur Visualisierung"
   ]
  },
  {
   "cell_type": "markdown",
   "metadata": {
    "slideshow": {
     "slide_type": "fragment"
    }
   },
   "source": [
    "Elastizitätsmodul Baustahl $[Pa]$ nach [1]"
   ]
  },
  {
   "cell_type": "code",
   "execution_count": null,
   "metadata": {
    "slideshow": {
     "slide_type": "fragment"
    }
   },
   "outputs": [],
   "source": [
    "E_val = 2.1e11"
   ]
  },
  {
   "cell_type": "markdown",
   "metadata": {
    "slideshow": {
     "slide_type": "fragment"
    }
   },
   "source": [
    "Flächenträgheitsmoment $[m^4]$ für IPE 120 nach [1] "
   ]
  },
  {
   "cell_type": "code",
   "execution_count": null,
   "metadata": {
    "slideshow": {
     "slide_type": "fragment"
    }
   },
   "outputs": [],
   "source": [
    "I_val = 3.45e-6"
   ]
  },
  {
   "cell_type": "markdown",
   "metadata": {
    "slideshow": {
     "slide_type": "fragment"
    }
   },
   "source": [
    "Gleichmäßig verteilte Last $[N/m]$"
   ]
  },
  {
   "cell_type": "code",
   "execution_count": null,
   "metadata": {
    "slideshow": {
     "slide_type": "fragment"
    }
   },
   "outputs": [],
   "source": [
    "q0_val = 9000"
   ]
  },
  {
   "cell_type": "markdown",
   "metadata": {
    "slideshow": {
     "slide_type": "fragment"
    }
   },
   "source": [
    "Länge des Trägers $[m]$"
   ]
  },
  {
   "cell_type": "code",
   "execution_count": null,
   "metadata": {
    "slideshow": {
     "slide_type": "fragment"
    }
   },
   "outputs": [],
   "source": [
    "L_val = 3"
   ]
  },
  {
   "cell_type": "markdown",
   "metadata": {
    "slideshow": {
     "slide_type": "subslide"
    }
   },
   "source": [
    "Funktionen numerisch auswerten"
   ]
  },
  {
   "cell_type": "markdown",
   "metadata": {
    "slideshow": {
     "slide_type": "fragment"
    }
   },
   "source": [
    "Die Funktion <code>sp.lambdify</code> aus der Python-Bibliothek <code>SymPy</code> dient dazu, symbolische Ausdrücke in numerische Funktionen umzuwandeln, die effizient berechnet werden können."
   ]
  },
  {
   "cell_type": "code",
   "execution_count": null,
   "metadata": {
    "slideshow": {
     "slide_type": "fragment"
    }
   },
   "outputs": [],
   "source": [
    "w_lambdified = sp.lambdify(x, w4.subs({E: E_val, I: I_val, q0: q0_val, L: L_val}), 'numpy')\n",
    "M_lambdified = sp.lambdify(x, M.subs({E: E_val, I: I_val, q0: q0_val, L: L_val}), 'numpy')\n",
    "V_lambdified = sp.lambdify(x, V.subs({E: E_val, I: I_val, q0: q0_val, L: L_val}), 'numpy')\n"
   ]
  },
  {
   "cell_type": "markdown",
   "metadata": {
    "slideshow": {
     "slide_type": "slide"
    }
   },
   "source": [
    "### Visualisierung der Ergebnisse"
   ]
  },
  {
   "cell_type": "markdown",
   "metadata": {
    "slideshow": {
     "slide_type": "subslide"
    }
   },
   "source": [
    " $x$-Werte für $x_i=\\frac{L}{1000}$ generieren, $w(x)$, $M(x)$, $V(x)$ berechnen"
   ]
  },
  {
   "cell_type": "code",
   "execution_count": null,
   "metadata": {
    "slideshow": {
     "slide_type": "fragment"
    }
   },
   "outputs": [],
   "source": [
    "x_vals = np.linspace(0, L_val, 1000)\n",
    "w_vals = w_lambdified(x_vals)\n",
    "M_vals = M_lambdified(x_vals)\n",
    "V_vals = V_lambdified(x_vals)"
   ]
  },
  {
   "cell_type": "markdown",
   "metadata": {
    "slideshow": {
     "slide_type": "subslide"
    }
   },
   "source": [
    "### Plot der Ergebnisse"
   ]
  },
  {
   "cell_type": "markdown",
   "metadata": {
    "slideshow": {
     "slide_type": "slide"
    }
   },
   "source": [
    "<b>Durchbiegung</b>\n"
   ]
  },
  {
   "cell_type": "code",
   "execution_count": null,
   "metadata": {
    "slideshow": {
     "slide_type": "fragment"
    }
   },
   "outputs": [],
   "source": [
    "plt.figure(figsize=(10, 6));\n",
    "plt.subplot(4, 1, 1)\n",
    "plt.plot(x_vals, w_vals, label='Durchbiegung w(x)', color='blue')\n",
    "plt.title('Belastung, Durchbiegung, Biegemoment und Querkraft')\n",
    "plt.ylabel('w(x) [m]')\n",
    "plt.grid(True)\n",
    "plt.legend()\n",
    "plt.show();"
   ]
  },
  {
   "cell_type": "markdown",
   "metadata": {
    "slideshow": {
     "slide_type": "slide"
    }
   },
   "source": [
    "<b>Biegemoment</b>"
   ]
  },
  {
   "cell_type": "code",
   "execution_count": null,
   "metadata": {
    "slideshow": {
     "slide_type": "fragment"
    }
   },
   "outputs": [],
   "source": [
    "plt.subplot(4, 1, 2)\n",
    "plt.plot(x_vals, M_vals, label='Biegemoment M(x)', color='green')\n",
    "plt.ylabel('M(x) [Nm]')\n",
    "plt.grid(True)\n",
    "plt.legend()\n",
    "plt.show();"
   ]
  },
  {
   "cell_type": "markdown",
   "metadata": {
    "slideshow": {
     "slide_type": "slide"
    }
   },
   "source": [
    "<b>Querkraft</b>"
   ]
  },
  {
   "cell_type": "code",
   "execution_count": null,
   "metadata": {
    "slideshow": {
     "slide_type": "fragment"
    }
   },
   "outputs": [],
   "source": [
    "plt.subplot(4, 1, 3)\n",
    "plt.plot(x_vals, V_vals, label='Querkraft V(x)', color='red')\n",
    "plt.xlabel('x [m]')\n",
    "plt.ylabel('V(x) [N]')\n",
    "plt.grid(True)\n",
    "plt.legend()\n",
    "plt.show();"
   ]
  },
  {
   "cell_type": "markdown",
   "metadata": {
    "slideshow": {
     "slide_type": "slide"
    }
   },
   "source": [
    "<b>Probe</b>  \n",
    "Anzeigen der ursprünglichen Belastung"
   ]
  },
  {
   "cell_type": "code",
   "execution_count": null,
   "metadata": {
    "slideshow": {
     "slide_type": "fragment"
    }
   },
   "outputs": [],
   "source": [
    "# Ersetze q0 immer, aber ersetze L nur, wenn es im Ausdruck enthalten ist\n",
    "q_expr = q_calculated.subs({q0: q0_val})\n",
    "\n",
    "# Überprüfen, ob L im Ausdruck enthalten ist und ersetze es nur dann\n",
    "if L in q.free_symbols:\n",
    "    q_expr = q_expr.subs({L: L_val})\n",
    "\n",
    "# Lambdify mit dem angepassten Ausdruck\n",
    "q_lambdified = sp.lambdify(x, q_expr, 'numpy')\n",
    "\n",
    "# Berechne die Werte von q(x) für x_vals\n",
    "q_vals = q_lambdified(x_vals)\n",
    "\n",
    "# Wenn q_expr konstant ist (z. B. keine Abhängigkeit von x), dann erzeuge ein Array mit konstanten Werten\n",
    "if isinstance(q_vals, (int, float)):\n",
    "    q_vals = np.full_like(x_vals, q_vals)  # Erstelle ein Array mit konstanten Werten, das die Länge von x_vals hat\n",
    "\n",
    "# Plotten\n",
    "plt.subplot(4, 1, 4);\n",
    "plt.plot(x_vals, q_vals, label='Belastung q(x)', color='orange');\n",
    "plt.ylabel('q(x) [N/m]');\n",
    "plt.grid(True);\n",
    "plt.legend();"
   ]
  },
  {
   "cell_type": "code",
   "execution_count": null,
   "metadata": {
    "slideshow": {
     "slide_type": "slide"
    }
   },
   "outputs": [],
   "source": [
    "plt.show();  # Zeigt die Gesamtgrafik an"
   ]
  },
  {
   "cell_type": "markdown",
   "metadata": {
    "slideshow": {
     "slide_type": "slide"
    }
   },
   "source": [
    "## Was bedeuten die Ergebnisse für den eingebauten Stahlträger?"
   ]
  },
  {
   "cell_type": "markdown",
   "metadata": {
    "slideshow": {
     "slide_type": "slide"
    }
   },
   "source": [
    "## Beschränkung der Durchbiegung \n",
    "\n",
    "Vertikale Verformung von Stahlkonstruktionen als Deckenträger sollten üblicherweise auf $w ≤ L/300$ begrenzt werden.  \n"
   ]
  },
  {
   "cell_type": "markdown",
   "metadata": {
    "slideshow": {
     "slide_type": "fragment"
    }
   },
   "source": [
    "$w_{max}$ aus berechneten Funktionswerten ermitteln und Umrechnung in $[cm]$. <small>Hinweis: Dies ist nicht die analytische Lösung der maximalen Durchbiegung sondern der absolute Maximalwert bei der Auswertung der Funktion $w(x)$ an Intervallen $x_i = \\frac{L}{1000}$.</small>  "
   ]
  },
  {
   "cell_type": "code",
   "execution_count": null,
   "metadata": {
    "slideshow": {
     "slide_type": "fragment"
    }
   },
   "outputs": [],
   "source": [
    "w_max = np.max(np.abs(w_vals)) * 100\n",
    "max_index = np.argmax(np.abs(w_vals))  # Index des Maximums finden\n",
    "x_max = x_vals[max_index]  # Zu diesem Index gehöriger x-Wert\n",
    "print(f\"Maximale absolute Durchbiegung (w_max): {w_max:.2f} cm bei x = {x_max:.2f} m\")\n"
   ]
  },
  {
   "cell_type": "markdown",
   "metadata": {
    "slideshow": {
     "slide_type": "fragment"
    }
   },
   "source": [
    "Es wird nachfolgend geprüft, ob die Durchbiegung des eingebauten Trägers zulässig und der Träger gebrauchstauglich ist:"
   ]
  },
  {
   "cell_type": "code",
   "execution_count": null,
   "metadata": {
    "slideshow": {
     "slide_type": "fragment"
    }
   },
   "outputs": [],
   "source": [
    "# Vergleich mit L/300 und Umrechnung in cm\n",
    "limit = L_val*100/300 \n",
    "is_within_limit = w_max <= limit  \n",
    "\n",
    "print(f\"Zulässiger Grenzwert (L/300): {limit:.2f} cm\")\n",
    "print(f\"Ist w_max ≤ L/300 und somit der Träger gebrauchstauglich? {'Ja' if is_within_limit else 'Nein'}\")"
   ]
  },
  {
   "cell_type": "markdown",
   "metadata": {
    "slideshow": {
     "slide_type": "slide"
    }
   },
   "source": [
    "## Transferaufgabe"
   ]
  },
  {
   "cell_type": "markdown",
   "metadata": {
    "slideshow": {
     "slide_type": "fragment"
    }
   },
   "source": [
    "Passen Sie das vorliegende Skript an, damit eine Dreieckslast als Einwirkung berechnet werden kann?\n",
    "* An welcher Stelle wird die Funktion $q(x)$ definiert?\n",
    "* Wie muss die Funktion  $q(x)$ angepasst werden, um eine Dreieckslast zu repräsentieren?"
   ]
  },
  {
   "attachments": {},
   "cell_type": "markdown",
   "metadata": {
    "slideshow": {
     "slide_type": "slide"
    }
   },
   "source": [
    "## Quellen\n",
    "[1] Albert, Andrej (Hg.) (2014): Bautabellen für Ingenieure. Mit Berechnungshinweisen und Beispielen. Bundesanzeiger Verlag. 21. Auflage. Köln: Reguvis Fachmedien.  \n",
    "\n",
    "## Kontakt\n",
    "\n",
    "<b>Dr.-Ing. Philipp Hagedorn</b>  \n",
    "ph@philipp-hagedorn.de  \n",
    "\n",
    "Dieses Notebook ist als OER unter CC-BY-NC lizensiert."
   ]
  }
 ],
 "metadata": {
  "celltoolbar": "Slideshow",
  "kernelspec": {
   "display_name": "Python 3 (ipykernel)",
   "language": "python",
   "name": "python3"
  },
  "language_info": {
   "codemirror_mode": {
    "name": "ipython",
    "version": 3
   },
   "file_extension": ".py",
   "mimetype": "text/x-python",
   "name": "python",
   "nbconvert_exporter": "python",
   "pygments_lexer": "ipython3",
   "version": "3.12.5"
  }
 },
 "nbformat": 4,
 "nbformat_minor": 4
}
